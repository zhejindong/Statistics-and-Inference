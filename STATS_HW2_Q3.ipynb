{
 "cells": [
  {
   "cell_type": "code",
   "execution_count": 1,
   "metadata": {},
   "outputs": [],
   "source": [
    "import pandas as pd \n",
    "data=pd.read_csv(\"/Users/zhejindong/Downlp1*(1-p1)/n1 + p2*(1-p2)/n2oads/CentralPark.csv\")"
   ]
  },
  {
   "cell_type": "markdown",
   "metadata": {},
   "source": [
    "## Q3 Task discription \n",
    "\n",
    "The data set Central Park.csv consists of precipitation data from weather station at Central Park,  New York. The  data was collected from the National Oceanic and  Atmospheric Administration (NOAA). The variable PRCP shows the  observed  amount of rain at time t in mm. Consider a first order MarkovChain model with a two dimensional state space  corresponding to  the  states{0,1}={“rainy day”,“no rain”}, where we define a rain day as one with a PRCP of at least 1.5 mm.  Suppose the estimated transition probability matrices obtained using data collected above."
   ]
  },
  {
   "cell_type": "markdown",
   "metadata": {},
   "source": [
    "<table>\n",
    "  <thead>\n",
    "    <tr>\n",
    "      <th>rainy</th>\n",
    "      <th>nonrainy</th>\n",
    "    </tr>\n",
    "  </thead>\n",
    "  <tbody>\n",
    "    <tr>\n",
    "      <td>a<sub>1</sub></td>\n",
    "      <td>a<sub>2</sub></td>\n",
    "    </tr>\n",
    "    <tr>\n",
    "      <td>a<sub>3</sub></td>\n",
    "      <td>a<sub>4</sub></td>\n",
    "    </tr>\n",
    "  </tbody>\n",
    "</table>"
   ]
  },
  {
   "cell_type": "markdown",
   "metadata": {},
   "source": [
    "### 1. Interpret the meaning of a<sub>i</sub>\n",
    "\n",
    "\n",
    "For the first order Markov Chain mode, the weather of today only depends on yesterday. Thus:\n",
    "\n",
    "a<sub>1</sub>= P(a<sub>0</sub>=0|a<sub>0</sub>=0) which means given yesterday is rainy, the probality of today being rainy is a<sub>1</sub>. \n",
    "\n",
    "a<sub>2</sub>= P(a<sub>1</sub>=0|a<sub>0</sub>=0) which means given yesterday is rainy, the probality of today being nonrainy is a<sub>2</sub>. \n",
    "\n",
    "\n",
    "a<sub>3</sub>= P(a<sub>0</sub>=0|a<sub>1</sub>=0) which means given yesterday is nonrainy, the probality of today being rainy is a<sub>3</sub>. \n",
    "\n",
    "a<sub>4</sub>= P(a<sub>1</sub>=0|a<sub>1</sub>=0) which means given yesterday is nonrainy, the probality of today being rainy is a<sub>3</sub>. \n",
    "\n",
    "\n",
    "\n",
    "\n"
   ]
  },
  {
   "cell_type": "markdown",
   "metadata": {},
   "source": [
    "### 2. What’s the long-term probability of observing a rainy day in Central Park. (Use a<sub>i</sub> to express the result)\n",
    "\n",
    "To solve this problem, we need to get the stationary distribution:\n",
    "\n",
    "p<sup>T</sup>P=p<sup>T</sup>\n",
    "p<sub>0</sub>: the probability of raining in long term \n",
    "p<sub>1</sub>: the probability of not raining in long term \n",
    "\n",
    "a<sub>1</sub>p<sub>0</sub>+ a<sub>3</sub>p<sub>1</sub>=p<sub>0</sub>\n",
    "\n",
    "p<sub>0</sub>+p<sub>1</sub>=1\n",
    "\n",
    "we get p<sub>0</sub>=a<sub>3</sub>/(a<sub>3</sub>-a<sub>1</sub>+1)\n",
    "\n",
    "Thus the long-term probability of observing a rainy day is a<sub>3</sub>/(a<sub>3</sub>-a<sub>1</sub>+1)"
   ]
  },
  {
   "cell_type": "markdown",
   "metadata": {},
   "source": [
    "### 3. Can you estimate a<sub>i</sub> for the month of July using the historical Central Park data?"
   ]
  },
  {
   "cell_type": "code",
   "execution_count": 137,
   "metadata": {},
   "outputs": [
    {
     "name": "stderr",
     "output_type": "stream",
     "text": [
      "/anaconda2/envs/py36/lib/python3.6/site-packages/ipykernel_launcher.py:3: SettingWithCopyWarning: \n",
      "A value is trying to be set on a copy of a slice from a DataFrame.\n",
      "Try using .loc[row_indexer,col_indexer] = value instead\n",
      "\n",
      "See the caveats in the documentation: http://pandas.pydata.org/pandas-docs/stable/indexing.html#indexing-view-versus-copy\n",
      "  This is separate from the ipykernel package so we can avoid doing imports until\n"
     ]
    },
    {
     "name": "stdout",
     "output_type": "stream",
     "text": [
      "a0 is 0.33\n",
      "a1 is 0.67\n",
      "a2 is 0.23\n",
      "a3 is 0.77\n"
     ]
    }
   ],
   "source": [
    "June_slice=data['DATE'].str.split(\"/\").str[0].astype(int)==6\n",
    "June_data=data[June_slice]\n",
    "June_data['Status']=June_data['PRCP'].apply(lambda x: 0 if x >1.5 else 1)\n",
    "#June_data\n",
    "c_00=0\n",
    "c_01=0\n",
    "c_10=0\n",
    "c_11=0\n",
    "for i in range(len(June_data)-1):\n",
    "    date=June_data.iloc[i]['DATE'].split(\"/\")[1]\n",
    "    if date!='30':\n",
    "        if June_data.iloc[i]['Status']==0:\n",
    "            if June_data.iloc[i+1]['Status']==0:\n",
    "                c_00=1+c_00\n",
    "            else:\n",
    "                c_01=1+c_01\n",
    "        else:\n",
    "            if June_data.iloc[i+1]['Status']==0:\n",
    "                c_10=1+c_10\n",
    "            else: \n",
    "                c_11=c_11+1\n",
    "# estimate ai\n",
    "\n",
    "a0=float(c_00/(c_00+c_01))\n",
    "a1=float(c_01/(c_00+c_01))\n",
    "a2=float(c_10/(c_10+c_11))\n",
    "a3=float(c_11/(c_10+c_11))\n",
    "\n",
    "\n",
    "print(\"a0 is {0:.2f}\".format(a0))\n",
    "print(\"a1 is {0:.2f}\".format(a1))\n",
    "print(\"a2 is {0:.2f}\".format(a2))\n",
    "print(\"a3 is {0:.2f}\".format(a3))"
   ]
  },
  {
   "cell_type": "markdown",
   "metadata": {},
   "source": [
    "### 4. Are the probability laws of “Xt+1|Xt=1” and “1−Xt+1|Xt= 0” significantlydifferent in Central Park?\n",
    "\n",
    "X1=Xt+1|Xt=1~Bern(p1)\n",
    "\n",
    "X2=1−Xt+1|Xt=0~Bern(p2)\n",
    "\n",
    "According to CLT:\n",
    "\n",
    "$\\bar X1$ ~ N(p1,p1*(1-p1)/n1)\n",
    "\n",
    "$\\bar X2$ ~ N(p2,p2*(1-p2)/n2)\n",
    "\n",
    "$\\bar X1$-$\\bar X2$ ~ N( p1-p2, p1*(1-p1)/n1 + p2*(1-p2)/n2 )\n",
    "\n",
    "H0: p1-p2=0\n",
    "H1: p1!=p2\n",
    "\n",
    "If H0 holds, $\\bar X1$-$\\bar X2$ ~ N( 0, p1*(1-p1)/n1 + p2*(1-p2)/n2 )\n",
    "\n",
    "p1<sup>'</sup>=float(c_11/(c_11+c_10))=0.77\n",
    "p2<sup>'</sup>=float(c_00/(c_00+c_01))=0.67\n",
    "\n",
    "$\\bar X1$-$\\bar X2$ ~ N( 0, p1<sup>'</sup>*(1-p1<sup>'</sup>)/n1 + p2<sup>'</sup>*(1-p2<sup>'</sup>)/n2 )\n",
    "\n",
    "p_value is 2*P(($\\bar X1$-$\\bar X2$) > (0.77-0.67))=2.4696743317065284e-08 <0.05. Reject H0.\n",
    "\n",
    "Thus, the probability laws of “Xt+1|Xt=1” and “1−Xt+1|Xt= 0” are significantly different in Central Park"
   ]
  },
  {
   "cell_type": "code",
   "execution_count": 147,
   "metadata": {},
   "outputs": [
    {
     "data": {
      "text/plain": [
       "2.4696743317065284e-08"
      ]
     },
     "execution_count": 147,
     "metadata": {},
     "output_type": "execute_result"
    }
   ],
   "source": [
    "p1=0.77\n",
    "p2=0.67\n",
    "n1=c_10+c_11\n",
    "n2=c_00+c_01\n",
    "p1*(1-p1)/n1 + p2*(1-p2)/n2\n",
    "from scipy.stats import norm\n",
    "import math\n",
    "mu, sigma = 0, p1*(1-p1)/n1 + p2*(1-p2)/n2 # mean and standard deviation\n",
    "(1-norm.cdf(0.77-0.67, loc=mu, scale=math.sqrt(sigma)))*2"
   ]
  },
  {
   "cell_type": "markdown",
   "metadata": {},
   "source": [
    "### 5. Does a higher order chain improve the fit of the data?"
   ]
  },
  {
   "cell_type": "code",
   "execution_count": 148,
   "metadata": {},
   "outputs": [],
   "source": [
    "## second order markov chain \n",
    "c_000=0\n",
    "c_010=0\n",
    "c_001=0\n",
    "c_011=0\n",
    "c_100=0\n",
    "c_110=0\n",
    "c_101=0\n",
    "c_111=0\n",
    "for i in range(len(June_data)-2):\n",
    "    date=June_data.iloc[i]['DATE'].split(\"/\")[1]\n",
    "    if date!='29':\n",
    "        if June_data.iloc[i]['Status']==0:\n",
    "            if June_data.iloc[i+1]['Status']==0 and June_data.iloc[i+2]['Status']==0:\n",
    "                c_000=1+c_000\n",
    "            if June_data.iloc[i+1]['Status']==0 and June_data.iloc[i+2]['Status']==1:\n",
    "                c_001=1+c_001\n",
    "            if June_data.iloc[i+1]['Status']==1 and June_data.iloc[i+2]['Status']==0:\n",
    "                c_010=1+c_010\n",
    "            if June_data.iloc[i+1]['Status']==1 and June_data.iloc[i+2]['Status']==1:\n",
    "                c_011=1+c_011\n",
    "        else:\n",
    "            if June_data.iloc[i+1]['Status']==0 and June_data.iloc[i+2]['Status']==0:\n",
    "                c_100=1+c_100\n",
    "            if June_data.iloc[i+1]['Status']==0 and June_data.iloc[i+2]['Status']==1:\n",
    "                c_101=1+c_101\n",
    "            if June_data.iloc[i+1]['Status']==1 and June_data.iloc[i+2]['Status']==0:\n",
    "                c_110=1+c_110\n",
    "            if June_data.iloc[i+1]['Status']==1 and June_data.iloc[i+2]['Status']==1:\n",
    "                c_111=1+c_111"
   ]
  },
  {
   "cell_type": "code",
   "execution_count": 168,
   "metadata": {},
   "outputs": [
    {
     "data": {
      "text/html": [
       "<div>\n",
       "<style scoped>\n",
       "    .dataframe tbody tr th:only-of-type {\n",
       "        vertical-align: middle;\n",
       "    }\n",
       "\n",
       "    .dataframe tbody tr th {\n",
       "        vertical-align: top;\n",
       "    }\n",
       "\n",
       "    .dataframe thead th {\n",
       "        text-align: right;\n",
       "    }\n",
       "</style>\n",
       "<table border=\"1\" class=\"dataframe\">\n",
       "  <thead>\n",
       "    <tr style=\"text-align: right;\">\n",
       "      <th></th>\n",
       "      <th>0</th>\n",
       "      <th>1</th>\n",
       "      <th>total</th>\n",
       "    </tr>\n",
       "  </thead>\n",
       "  <tbody>\n",
       "    <tr>\n",
       "      <th>c_00</th>\n",
       "      <td>94</td>\n",
       "      <td>190</td>\n",
       "      <td>284</td>\n",
       "    </tr>\n",
       "    <tr>\n",
       "      <th>c_01</th>\n",
       "      <td>112</td>\n",
       "      <td>470</td>\n",
       "      <td>582</td>\n",
       "    </tr>\n",
       "    <tr>\n",
       "      <th>c_10</th>\n",
       "      <td>192</td>\n",
       "      <td>398</td>\n",
       "      <td>590</td>\n",
       "    </tr>\n",
       "    <tr>\n",
       "      <th>c_11</th>\n",
       "      <td>471</td>\n",
       "      <td>1523</td>\n",
       "      <td>1994</td>\n",
       "    </tr>\n",
       "  </tbody>\n",
       "</table>\n",
       "</div>"
      ],
      "text/plain": [
       "        0     1  total\n",
       "c_00   94   190    284\n",
       "c_01  112   470    582\n",
       "c_10  192   398    590\n",
       "c_11  471  1523   1994"
      ]
     },
     "execution_count": 168,
     "metadata": {},
     "output_type": "execute_result"
    }
   ],
   "source": [
    "# second order \n",
    "df={\"0\":{\"c_00\":c_000,\"c_01\":c_010,\"c_10\":c_100,\"c_11\":c_110},\"1\":{\"c_00\":c_001,\"c_01\":c_011,\"c_10\":c_101,\"c_11\":c_111}}\n",
    "df2=pd.DataFrame(df)\n",
    "df2['total']=df2['0']+df2['1']\n",
    "df2\n"
   ]
  },
  {
   "cell_type": "code",
   "execution_count": 283,
   "metadata": {},
   "outputs": [],
   "source": [
    "# first order \n",
    "df1={\"0\":{\"c_0\":c_00,\"c_1\":c_10},\"1\":{\"c_0\":c_01,\"c_1\":c_11}}\n",
    "df1=pd.DataFrame(df1)\n",
    "df1['total']=df1['0']+df1['1']\n",
    "df2['total']=df2['0']+df2['1']\n"
   ]
  },
  {
   "cell_type": "code",
   "execution_count": 284,
   "metadata": {},
   "outputs": [
    {
     "data": {
      "text/html": [
       "<div>\n",
       "<style scoped>\n",
       "    .dataframe tbody tr th:only-of-type {\n",
       "        vertical-align: middle;\n",
       "    }\n",
       "\n",
       "    .dataframe tbody tr th {\n",
       "        vertical-align: top;\n",
       "    }\n",
       "\n",
       "    .dataframe thead th {\n",
       "        text-align: right;\n",
       "    }\n",
       "</style>\n",
       "<table border=\"1\" class=\"dataframe\">\n",
       "  <thead>\n",
       "    <tr style=\"text-align: right;\">\n",
       "      <th></th>\n",
       "      <th>0</th>\n",
       "      <th>1</th>\n",
       "      <th>total</th>\n",
       "    </tr>\n",
       "  </thead>\n",
       "  <tbody>\n",
       "    <tr>\n",
       "      <th>c_0</th>\n",
       "      <td>286</td>\n",
       "      <td>588</td>\n",
       "      <td>874</td>\n",
       "    </tr>\n",
       "    <tr>\n",
       "      <th>c_1</th>\n",
       "      <td>584</td>\n",
       "      <td>1993</td>\n",
       "      <td>2577</td>\n",
       "    </tr>\n",
       "  </tbody>\n",
       "</table>\n",
       "</div>"
      ],
      "text/plain": [
       "       0     1  total\n",
       "c_0  286   588    874\n",
       "c_1  584  1993   2577"
      ]
     },
     "execution_count": 284,
     "metadata": {},
     "output_type": "execute_result"
    }
   ],
   "source": [
    "df1"
   ]
  },
  {
   "cell_type": "code",
   "execution_count": 285,
   "metadata": {},
   "outputs": [
    {
     "data": {
      "text/html": [
       "<div>\n",
       "<style scoped>\n",
       "    .dataframe tbody tr th:only-of-type {\n",
       "        vertical-align: middle;\n",
       "    }\n",
       "\n",
       "    .dataframe tbody tr th {\n",
       "        vertical-align: top;\n",
       "    }\n",
       "\n",
       "    .dataframe thead th {\n",
       "        text-align: right;\n",
       "    }\n",
       "</style>\n",
       "<table border=\"1\" class=\"dataframe\">\n",
       "  <thead>\n",
       "    <tr style=\"text-align: right;\">\n",
       "      <th></th>\n",
       "      <th>0</th>\n",
       "      <th>1</th>\n",
       "      <th>total</th>\n",
       "    </tr>\n",
       "  </thead>\n",
       "  <tbody>\n",
       "    <tr>\n",
       "      <th>c_00</th>\n",
       "      <td>94</td>\n",
       "      <td>190</td>\n",
       "      <td>284</td>\n",
       "    </tr>\n",
       "    <tr>\n",
       "      <th>c_01</th>\n",
       "      <td>112</td>\n",
       "      <td>470</td>\n",
       "      <td>582</td>\n",
       "    </tr>\n",
       "    <tr>\n",
       "      <th>c_10</th>\n",
       "      <td>192</td>\n",
       "      <td>398</td>\n",
       "      <td>590</td>\n",
       "    </tr>\n",
       "    <tr>\n",
       "      <th>c_11</th>\n",
       "      <td>471</td>\n",
       "      <td>1523</td>\n",
       "      <td>1994</td>\n",
       "    </tr>\n",
       "  </tbody>\n",
       "</table>\n",
       "</div>"
      ],
      "text/plain": [
       "        0     1  total\n",
       "c_00   94   190    284\n",
       "c_01  112   470    582\n",
       "c_10  192   398    590\n",
       "c_11  471  1523   1994"
      ]
     },
     "execution_count": 285,
     "metadata": {},
     "output_type": "execute_result"
    }
   ],
   "source": [
    "df2"
   ]
  },
  {
   "cell_type": "markdown",
   "metadata": {},
   "source": [
    "### test statistics\n",
    "\n",
    "H0: If second order chain can improve the peformance the likelihood test should converge to chi2 distribution"
   ]
  },
  {
   "cell_type": "code",
   "execution_count": 271,
   "metadata": {},
   "outputs": [],
   "source": [
    "# test statistics:\n",
    "p_df1=df1.iloc[:,:-1]/df1['total'].values.reshape(-1,+1)\n",
    "p_df2=df2.iloc[:,:-1]/df2['total'].values.reshape(-1,+1)"
   ]
  },
  {
   "cell_type": "code",
   "execution_count": 286,
   "metadata": {},
   "outputs": [
    {
     "data": {
      "text/html": [
       "<div>\n",
       "<style scoped>\n",
       "    .dataframe tbody tr th:only-of-type {\n",
       "        vertical-align: middle;\n",
       "    }\n",
       "\n",
       "    .dataframe tbody tr th {\n",
       "        vertical-align: top;\n",
       "    }\n",
       "\n",
       "    .dataframe thead th {\n",
       "        text-align: right;\n",
       "    }\n",
       "</style>\n",
       "<table border=\"1\" class=\"dataframe\">\n",
       "  <thead>\n",
       "    <tr style=\"text-align: right;\">\n",
       "      <th></th>\n",
       "      <th>0</th>\n",
       "      <th>1</th>\n",
       "    </tr>\n",
       "  </thead>\n",
       "  <tbody>\n",
       "    <tr>\n",
       "      <th>c_0</th>\n",
       "      <td>0.327231</td>\n",
       "      <td>0.672769</td>\n",
       "    </tr>\n",
       "    <tr>\n",
       "      <th>c_1</th>\n",
       "      <td>0.226620</td>\n",
       "      <td>0.773380</td>\n",
       "    </tr>\n",
       "  </tbody>\n",
       "</table>\n",
       "</div>"
      ],
      "text/plain": [
       "            0         1\n",
       "c_0  0.327231  0.672769\n",
       "c_1  0.226620  0.773380"
      ]
     },
     "execution_count": 286,
     "metadata": {},
     "output_type": "execute_result"
    }
   ],
   "source": [
    "p_df1"
   ]
  },
  {
   "cell_type": "code",
   "execution_count": 287,
   "metadata": {},
   "outputs": [
    {
     "data": {
      "text/html": [
       "<div>\n",
       "<style scoped>\n",
       "    .dataframe tbody tr th:only-of-type {\n",
       "        vertical-align: middle;\n",
       "    }\n",
       "\n",
       "    .dataframe tbody tr th {\n",
       "        vertical-align: top;\n",
       "    }\n",
       "\n",
       "    .dataframe thead th {\n",
       "        text-align: right;\n",
       "    }\n",
       "</style>\n",
       "<table border=\"1\" class=\"dataframe\">\n",
       "  <thead>\n",
       "    <tr style=\"text-align: right;\">\n",
       "      <th></th>\n",
       "      <th>0</th>\n",
       "      <th>1</th>\n",
       "    </tr>\n",
       "  </thead>\n",
       "  <tbody>\n",
       "    <tr>\n",
       "      <th>c_00</th>\n",
       "      <td>0.330986</td>\n",
       "      <td>0.669014</td>\n",
       "    </tr>\n",
       "    <tr>\n",
       "      <th>c_01</th>\n",
       "      <td>0.192440</td>\n",
       "      <td>0.807560</td>\n",
       "    </tr>\n",
       "    <tr>\n",
       "      <th>c_10</th>\n",
       "      <td>0.325424</td>\n",
       "      <td>0.674576</td>\n",
       "    </tr>\n",
       "    <tr>\n",
       "      <th>c_11</th>\n",
       "      <td>0.236209</td>\n",
       "      <td>0.763791</td>\n",
       "    </tr>\n",
       "  </tbody>\n",
       "</table>\n",
       "</div>"
      ],
      "text/plain": [
       "             0         1\n",
       "c_00  0.330986  0.669014\n",
       "c_01  0.192440  0.807560\n",
       "c_10  0.325424  0.674576\n",
       "c_11  0.236209  0.763791"
      ]
     },
     "execution_count": 287,
     "metadata": {},
     "output_type": "execute_result"
    }
   ],
   "source": [
    "p_df2"
   ]
  },
  {
   "cell_type": "code",
   "execution_count": 296,
   "metadata": {},
   "outputs": [],
   "source": [
    "import numpy as np\n",
    "from scipy.stats import chi2\n",
    "part1=(((np.log(p_df2)*df2.iloc[:,:-1]).values).sum())\n",
    "part2=(((np.log(p_df1.iloc[0,:])*df2.iloc[[0,2],:-1]).values).sum())+(((np.log(p_df1.iloc[1,:])*df2.iloc[[1,3],:-1]).values).sum())\n",
    "test_statistic=2*part1/part2\n",
    "p_value=chi2.cdf(test_statistic, df=4)"
   ]
  },
  {
   "cell_type": "code",
   "execution_count": 297,
   "metadata": {},
   "outputs": [
    {
     "data": {
      "text/plain": [
       "1.997361373259808"
      ]
     },
     "execution_count": 297,
     "metadata": {},
     "output_type": "execute_result"
    }
   ],
   "source": [
    "test_statistic"
   ]
  },
  {
   "cell_type": "code",
   "execution_count": 291,
   "metadata": {},
   "outputs": [
    {
     "data": {
      "text/plain": [
       "0.25640213947908735"
      ]
     },
     "execution_count": 291,
     "metadata": {},
     "output_type": "execute_result"
    }
   ],
   "source": [
    "p_value"
   ]
  },
  {
   "cell_type": "markdown",
   "metadata": {},
   "source": [
    "p_value is bigger than 0.05 so we cannot regect the H0. Thus, we conclude higer order cannot help leverage model performance."
   ]
  },
  {
   "cell_type": "code",
   "execution_count": null,
   "metadata": {},
   "outputs": [],
   "source": []
  }
 ],
 "metadata": {
  "kernelspec": {
   "display_name": "py36",
   "language": "python",
   "name": "py36"
  },
  "language_info": {
   "codemirror_mode": {
    "name": "ipython",
    "version": 3
   },
   "file_extension": ".py",
   "mimetype": "text/x-python",
   "name": "python",
   "nbconvert_exporter": "python",
   "pygments_lexer": "ipython3",
   "version": "3.6.8"
  }
 },
 "nbformat": 4,
 "nbformat_minor": 2
}
